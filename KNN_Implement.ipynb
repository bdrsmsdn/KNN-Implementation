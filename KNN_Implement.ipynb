{
 "cells": [
  {
   "cell_type": "code",
   "execution_count": 1,
   "id": "f955903a",
   "metadata": {},
   "outputs": [],
   "source": [
    "import pandas as pd\n",
    "import numpy as np"
   ]
  },
  {
   "cell_type": "code",
   "execution_count": 2,
   "id": "11c6d7d7",
   "metadata": {},
   "outputs": [],
   "source": [
    "# Fungsi untuk mencari jarak euclidean\n",
    "def euclidean_distance(x1, x2):\n",
    "    return np.sqrt(np.sum((x1 - x2) ** 2))"
   ]
  },
  {
   "cell_type": "code",
   "execution_count": 3,
   "id": "6d0e5d9e",
   "metadata": {},
   "outputs": [],
   "source": [
    "# Fungsi untuk menentukan kelas dari data uji\n",
    "def predict(X_train, y_train, x_test, k):\n",
    "    distances = []\n",
    "    for i in range(X_train.shape[0]):\n",
    "        distance = euclidean_distance(x_test, X_train[i])\n",
    "        distances.append([distance, i])\n",
    "    distances = sorted(distances)\n",
    "    targets = []\n",
    "    for i in range(k):\n",
    "        index = distances[i][1]\n",
    "        targets.append(y_train[index])\n",
    "    return max(targets, key=targets.count)"
   ]
  },
  {
   "cell_type": "code",
   "execution_count": 5,
   "id": "3a24a40d",
   "metadata": {},
   "outputs": [],
   "source": [
    "# Baca data latih dari file excel\n",
    "df = pd.read_excel(\"D:/Semester7/AI/implement_knn/abalone.xlsx\")\n",
    "X_train = df[['Length', 'Diameter', 'Height', 'Whole weight', 'Shell weight', 'Rings']].to_numpy()\n",
    "y_train = df['ClassSex'].to_numpy()\n",
    "\n",
    "# Baca data uji dari file excel\n",
    "df = pd.read_excel(\"D:/Semester7/AI/implement_knn/data_uji.xlsx\")\n",
    "X_test = df[['Length', 'Diameter', 'Height', 'Whole weight', 'Shell weight', 'Rings']].to_numpy()\n",
    "y_test = df['ClassSex'].to_numpy()"
   ]
  },
  {
   "cell_type": "code",
   "execution_count": 12,
   "id": "4f6750a6",
   "metadata": {},
   "outputs": [],
   "source": [
    "# Tentukan kelas dari data uji dengan jumlah tetangga terdekat sebanyak 19\n",
    "k = 59\n",
    "predictions = []\n",
    "for x_test in X_test:\n",
    "    predictions.append(predict(X_train, y_train, x_test, k))"
   ]
  },
  {
   "cell_type": "code",
   "execution_count": 13,
   "id": "5a599875",
   "metadata": {},
   "outputs": [
    {
     "name": "stdout",
     "output_type": "stream",
     "text": [
      "Akurasi :  0.5701906412478336\n"
     ]
    }
   ],
   "source": [
    "# Hitung akurasi\n",
    "accuracy = np.mean(predictions == y_test)\n",
    "print(\"Akurasi : \", accuracy)"
   ]
  },
  {
   "cell_type": "code",
   "execution_count": null,
   "id": "46c599d7",
   "metadata": {},
   "outputs": [],
   "source": []
  }
 ],
 "metadata": {
  "kernelspec": {
   "display_name": "Python 3 (ipykernel)",
   "language": "python",
   "name": "python3"
  },
  "language_info": {
   "codemirror_mode": {
    "name": "ipython",
    "version": 3
   },
   "file_extension": ".py",
   "mimetype": "text/x-python",
   "name": "python",
   "nbconvert_exporter": "python",
   "pygments_lexer": "ipython3",
   "version": "3.10.9"
  }
 },
 "nbformat": 4,
 "nbformat_minor": 5
}
